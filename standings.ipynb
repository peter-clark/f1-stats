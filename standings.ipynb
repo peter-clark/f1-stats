{
 "cells": [
  {
   "cell_type": "code",
   "execution_count": 11,
   "metadata": {},
   "outputs": [],
   "source": [
    "import fastf1 as f1\n",
    "import fastf1.plotting\n",
    "import matplotlib.pyplot as plt\n",
    "import numpy as np\n",
    "fastf1.plotting.setup_mpl()\n",
    "import datetime\n",
    "import os\n",
    "\n",
    "import pandas as pd\n",
    "import plotly.express as px\n",
    "import plotly.graph_objects as go\n",
    "from plotly.io import show\n",
    "from fastf1.ergast import Ergast\n",
    "\n",
    "\n",
    "fastf1.Cache.enable_cache(os.getcwd())"
   ]
  },
  {
   "cell_type": "code",
   "execution_count": 12,
   "metadata": {},
   "outputs": [],
   "source": [
    "current_race_idx=fastf1.get_events_remaining()['RoundNumber'].keys()[0]"
   ]
  },
  {
   "cell_type": "code",
   "execution_count": 13,
   "metadata": {},
   "outputs": [
    {
     "name": "stdout",
     "output_type": "stream",
     "text": [
      "    round     race driverCode  points\n",
      "0       1  Bahrain        VER    26.0\n",
      "1       1  Bahrain        PER    18.0\n",
      "2       1  Bahrain        SAI    15.0\n",
      "3       1  Bahrain        LEC    12.0\n",
      "4       1  Bahrain        RUS    10.0\n",
      "..    ...      ...        ...     ...\n",
      "15     14  Belgian        TSU     0.0\n",
      "16     14  Belgian        SAR     0.0\n",
      "17     14  Belgian        HUL     0.0\n",
      "18     14  Belgian        ZHO     0.0\n",
      "19     14  Belgian        RUS     0.0\n",
      "\n",
      "[279 rows x 4 columns]\n"
     ]
    }
   ],
   "source": [
    "eg = Ergast()\n",
    "sch = eg.get_race_schedule(2024)\n",
    "results=[]\n",
    "\n",
    "for round, race in sch['raceName'].items():\n",
    "    #print(f\"{round+1} {race}\")\n",
    "    if round+1<current_race_idx:\n",
    "        # Extract results\n",
    "        temp = eg.get_race_results(2024, round=round+1)\n",
    "        if temp.content:\n",
    "            temp=temp.content[0]\n",
    "\n",
    "            # Add sprint if happens\n",
    "            sprint = eg.get_sprint_results(2024, round=round+1)\n",
    "            if sprint.content and sprint.description['round'][0] == round+1:\n",
    "                temp = pd.merge(temp, sprint.content[0], on='driverCode', how='left')\n",
    "                temp['points'] = temp['points_x'] + temp['points_y']\n",
    "                temp.drop(columns=['points_x', 'points_y'], inplace=True)\n",
    "\n",
    "            # Rd # and Name\n",
    "            temp['round']=round+1\n",
    "            temp['race']=race.removesuffix(' Grand Prix')\n",
    "            temp=temp[['round','race', 'driverCode', 'points']]\n",
    "            results.append(temp)\n",
    "results=pd.concat(results)\n",
    "races = results['race'].drop_duplicates()\n",
    "print(results)"
   ]
  },
  {
   "cell_type": "code",
   "execution_count": 14,
   "metadata": {},
   "outputs": [
    {
     "name": "stdout",
     "output_type": "stream",
     "text": [
      "driverCode\n",
      "VER    277.0\n",
      "NOR    199.0\n",
      "LEC    177.0\n",
      "PIA    167.0\n",
      "SAI    162.0\n",
      "HAM    150.0\n",
      "PER    131.0\n",
      "RUS    116.0\n",
      "ALO     49.0\n",
      "STR     24.0\n",
      "TSU     22.0\n",
      "HUL     22.0\n",
      "RIC     12.0\n",
      "BEA      6.0\n",
      "GAS      6.0\n",
      "OCO      5.0\n",
      "MAG      5.0\n",
      "ALB      4.0\n",
      "SAR      0.0\n",
      "BOT      0.0\n",
      "ZHO      0.0\n",
      "Name: points, dtype: float64\n"
     ]
    }
   ],
   "source": [
    "points_per_driver = results.groupby('driverCode')['points'].sum()\n",
    "\n",
    "# Print the result\n",
    "print(points_per_driver.sort_values(ascending=False))"
   ]
  },
  {
   "cell_type": "code",
   "execution_count": 15,
   "metadata": {},
   "outputs": [],
   "source": [
    "# Rearrange\n",
    "results = results.pivot(index='driverCode', columns='round', values='points')"
   ]
  },
  {
   "cell_type": "code",
   "execution_count": 16,
   "metadata": {},
   "outputs": [
    {
     "name": "stdout",
     "output_type": "stream",
     "text": [
      "round          1     2     3     4     5     6     7     8     9    10    11  \\\n",
      "driverCode                                                                     \n",
      "ALB          0.0   0.0   0.0   0.0   0.0   0.0   0.0   2.0   0.0   0.0   0.0   \n",
      "ALO          2.0  10.0   4.0   8.0   7.0   2.0   0.0   0.0   8.0   0.0   0.0   \n",
      "BEA          NaN   6.0   NaN   NaN   NaN   NaN   NaN   NaN   NaN   NaN   NaN   \n",
      "BOT          0.0   0.0   0.0   0.0   0.0   0.0   0.0   0.0   0.0   0.0   0.0   \n",
      "GAS          0.0   0.0   0.0   0.0   0.0   0.0   0.0   1.0   2.0   2.0   1.0   \n",
      "HAM          6.0   2.0   0.0   2.0   9.0   8.0   8.0   7.0  13.0  15.0  15.0   \n",
      "HUL          0.0   1.0   2.0   0.0   1.0   2.0   0.0   0.0   0.0   0.0   8.0   \n",
      "LEC         12.0  16.0  19.0  12.0  17.0  22.0  15.0  25.0   0.0  10.0   2.0   \n",
      "MAG          0.0   0.0   1.0   0.0   0.0   0.0   0.0   0.0   0.0   0.0   4.0   \n",
      "NOR          8.0   4.0  15.0  10.0  21.0  25.0  18.0  12.0  18.0  19.0   6.0   \n",
      "OCO          0.0   0.0   0.0   0.0   0.0   1.0   0.0   0.0   1.0   1.0   0.0   \n",
      "PER         18.0  18.0  10.0  18.0  21.0  18.0   4.0   0.0   0.0   4.0   7.0   \n",
      "PIA          4.0  12.0  12.0   4.0   6.0   3.0  12.0  18.0  10.0   6.0  25.0   \n",
      "RIC          0.0   0.0   0.0   0.0   0.0   5.0   0.0   0.0   4.0   0.0   2.0   \n",
      "RUS         10.0   8.0   0.0   6.0   9.0   4.0   7.0  10.0  15.0  12.0  30.0   \n",
      "SAI         15.0   NaN  25.0  15.0  14.0  14.0  10.0  15.0   0.0   8.0  19.0   \n",
      "SAR          0.0   0.0   NaN   0.0   0.0   0.0   0.0   0.0   0.0   0.0   0.0   \n",
      "STR          1.0   0.0   8.0   0.0   0.0   0.0   2.0   0.0   6.0   0.0   0.0   \n",
      "TSU          0.0   0.0   6.0   1.0   0.0   7.0   1.0   4.0   0.0   0.0   0.0   \n",
      "VER         26.0  25.0   0.0  26.0  33.0  26.0  25.0   8.0  25.0  25.0  18.0   \n",
      "ZHO          0.0   0.0   0.0   0.0   0.0   0.0   0.0   0.0   0.0   0.0   0.0   \n",
      "\n",
      "round         12    13    14    Sum  \n",
      "driverCode                           \n",
      "ALB          2.0   0.0   0.0    4.0  \n",
      "ALO          4.0   0.0   4.0   49.0  \n",
      "BEA          NaN   NaN   NaN    6.0  \n",
      "BOT          0.0   0.0   0.0    0.0  \n",
      "GAS          0.0   0.0   0.0    6.0  \n",
      "HAM         25.0  15.0  25.0  150.0  \n",
      "HUL          8.0   0.0   0.0   22.0  \n",
      "LEC          0.0  12.0  15.0  177.0  \n",
      "MAG          0.0   0.0   0.0    5.0  \n",
      "NOR         15.0  18.0  10.0  199.0  \n",
      "OCO          0.0   0.0   2.0    5.0  \n",
      "PER          0.0   6.0   7.0  131.0  \n",
      "PIA         12.0  25.0  18.0  167.0  \n",
      "RIC          0.0   0.0   1.0   12.0  \n",
      "RUS          0.0   5.0   0.0  116.0  \n",
      "SAI         11.0   8.0   8.0  162.0  \n",
      "SAR          0.0   0.0   0.0    0.0  \n",
      "STR          6.0   1.0   0.0   24.0  \n",
      "TSU          1.0   2.0   0.0   22.0  \n",
      "VER         18.0  10.0  12.0  277.0  \n",
      "ZHO          0.0   0.0   0.0    0.0  \n"
     ]
    }
   ],
   "source": [
    "results['Sum']=results.sum(axis=1)\n",
    "print(results)"
   ]
  },
  {
   "cell_type": "code",
   "execution_count": 26,
   "metadata": {},
   "outputs": [
    {
     "name": "stdout",
     "output_type": "stream",
     "text": [
      "round          1     2     3     4     5     6     7     8     9    10    11  \\\n",
      "driverCode                                                                     \n",
      "VER         26.0  25.0   0.0  26.0  33.0  26.0  25.0   8.0  25.0  25.0  18.0   \n",
      "NOR          8.0   4.0  15.0  10.0  21.0  25.0  18.0  12.0  18.0  19.0   6.0   \n",
      "LEC         12.0  16.0  19.0  12.0  17.0  22.0  15.0  25.0   0.0  10.0   2.0   \n",
      "PIA          4.0  12.0  12.0   4.0   6.0   3.0  12.0  18.0  10.0   6.0  25.0   \n",
      "SAI         15.0   NaN  25.0  15.0  14.0  14.0  10.0  15.0   0.0   8.0  19.0   \n",
      "HAM          6.0   2.0   0.0   2.0   9.0   8.0   8.0   7.0  13.0  15.0  15.0   \n",
      "PER         18.0  18.0  10.0  18.0  21.0  18.0   4.0   0.0   0.0   4.0   7.0   \n",
      "RUS         10.0   8.0   0.0   6.0   9.0   4.0   7.0  10.0  15.0  12.0  30.0   \n",
      "ALO          2.0  10.0   4.0   8.0   7.0   2.0   0.0   0.0   8.0   0.0   0.0   \n",
      "STR          1.0   0.0   8.0   0.0   0.0   0.0   2.0   0.0   6.0   0.0   0.0   \n",
      "HUL          0.0   1.0   2.0   0.0   1.0   2.0   0.0   0.0   0.0   0.0   8.0   \n",
      "TSU          0.0   0.0   6.0   1.0   0.0   7.0   1.0   4.0   0.0   0.0   0.0   \n",
      "RIC          0.0   0.0   0.0   0.0   0.0   5.0   0.0   0.0   4.0   0.0   2.0   \n",
      "BEA          NaN   6.0   NaN   NaN   NaN   NaN   NaN   NaN   NaN   NaN   NaN   \n",
      "GAS          0.0   0.0   0.0   0.0   0.0   0.0   0.0   1.0   2.0   2.0   1.0   \n",
      "OCO          0.0   0.0   0.0   0.0   0.0   1.0   0.0   0.0   1.0   1.0   0.0   \n",
      "MAG          0.0   0.0   1.0   0.0   0.0   0.0   0.0   0.0   0.0   0.0   4.0   \n",
      "ALB          0.0   0.0   0.0   0.0   0.0   0.0   0.0   2.0   0.0   0.0   0.0   \n",
      "SAR          0.0   0.0   NaN   0.0   0.0   0.0   0.0   0.0   0.0   0.0   0.0   \n",
      "BOT          0.0   0.0   0.0   0.0   0.0   0.0   0.0   0.0   0.0   0.0   0.0   \n",
      "ZHO          0.0   0.0   0.0   0.0   0.0   0.0   0.0   0.0   0.0   0.0   0.0   \n",
      "\n",
      "round         12    13    14    Sum  \n",
      "driverCode                           \n",
      "VER         18.0  10.0  12.0  277.0  \n",
      "NOR         15.0  18.0  10.0  199.0  \n",
      "LEC          0.0  12.0  15.0  177.0  \n",
      "PIA         12.0  25.0  18.0  167.0  \n",
      "SAI         11.0   8.0   8.0  162.0  \n",
      "HAM         25.0  15.0  25.0  150.0  \n",
      "PER          0.0   6.0   7.0  131.0  \n",
      "RUS          0.0   5.0   0.0  116.0  \n",
      "ALO          4.0   0.0   4.0   49.0  \n",
      "STR          6.0   1.0   0.0   24.0  \n",
      "HUL          8.0   0.0   0.0   22.0  \n",
      "TSU          1.0   2.0   0.0   22.0  \n",
      "RIC          0.0   0.0   1.0   12.0  \n",
      "BEA          NaN   NaN   NaN    6.0  \n",
      "GAS          0.0   0.0   0.0    6.0  \n",
      "OCO          0.0   0.0   2.0    5.0  \n",
      "MAG          0.0   0.0   0.0    5.0  \n",
      "ALB          2.0   0.0   0.0    4.0  \n",
      "SAR          0.0   0.0   0.0    0.0  \n",
      "BOT          0.0   0.0   0.0    0.0  \n",
      "ZHO          0.0   0.0   0.0    0.0  \n"
     ]
    }
   ],
   "source": [
    "# Rank by pts\n",
    "results['total_points']=results.sum(axis=1)\n",
    "results=results.sort_values(by='total_points', ascending=False)\n",
    "\n",
    "results.drop(columns='total_points', inplace=True)\n",
    "print(results)"
   ]
  },
  {
   "cell_type": "code",
   "execution_count": 36,
   "metadata": {},
   "outputs": [
    {
     "data": {
      "application/vnd.plotly.v1+json": {
       "config": {
        "plotlyServerURL": "https://plot.ly"
       },
       "data": [
        {
         "coloraxis": "coloraxis",
         "hovertemplate": "Race: %{x}<br>Driver: %{y}<br>Points: %{z}<extra></extra>",
         "name": "0",
         "texttemplate": "%{z}",
         "type": "heatmap",
         "x": [
          1,
          2,
          3,
          4,
          5,
          6,
          7,
          8,
          9,
          10,
          11,
          12,
          13,
          14
         ],
         "xaxis": "x",
         "y": [
          "VER",
          "NOR",
          "LEC",
          "PIA",
          "SAI",
          "HAM",
          "PER",
          "RUS",
          "ALO",
          "STR",
          "HUL",
          "TSU",
          "RIC",
          "BEA",
          "GAS",
          "OCO",
          "MAG",
          "ALB",
          "SAR",
          "BOT",
          "ZHO"
         ],
         "yaxis": "y",
         "z": [
          [
           26,
           25,
           0,
           26,
           33,
           26,
           25,
           8,
           25,
           25,
           18,
           18,
           10,
           12
          ],
          [
           8,
           4,
           15,
           10,
           21,
           25,
           18,
           12,
           18,
           19,
           6,
           15,
           18,
           10
          ],
          [
           12,
           16,
           19,
           12,
           17,
           22,
           15,
           25,
           0,
           10,
           2,
           0,
           12,
           15
          ],
          [
           4,
           12,
           12,
           4,
           6,
           3,
           12,
           18,
           10,
           6,
           25,
           12,
           25,
           18
          ],
          [
           15,
           null,
           25,
           15,
           14,
           14,
           10,
           15,
           0,
           8,
           19,
           11,
           8,
           8
          ],
          [
           6,
           2,
           0,
           2,
           9,
           8,
           8,
           7,
           13,
           15,
           15,
           25,
           15,
           25
          ],
          [
           18,
           18,
           10,
           18,
           21,
           18,
           4,
           0,
           0,
           4,
           7,
           0,
           6,
           7
          ],
          [
           10,
           8,
           0,
           6,
           9,
           4,
           7,
           10,
           15,
           12,
           30,
           0,
           5,
           0
          ],
          [
           2,
           10,
           4,
           8,
           7,
           2,
           0,
           0,
           8,
           0,
           0,
           4,
           0,
           4
          ],
          [
           1,
           0,
           8,
           0,
           0,
           0,
           2,
           0,
           6,
           0,
           0,
           6,
           1,
           0
          ],
          [
           0,
           1,
           2,
           0,
           1,
           2,
           0,
           0,
           0,
           0,
           8,
           8,
           0,
           0
          ],
          [
           0,
           0,
           6,
           1,
           0,
           7,
           1,
           4,
           0,
           0,
           0,
           1,
           2,
           0
          ],
          [
           0,
           0,
           0,
           0,
           0,
           5,
           0,
           0,
           4,
           0,
           2,
           0,
           0,
           1
          ],
          [
           null,
           6,
           null,
           null,
           null,
           null,
           null,
           null,
           null,
           null,
           null,
           null,
           null,
           null
          ],
          [
           0,
           0,
           0,
           0,
           0,
           0,
           0,
           1,
           2,
           2,
           1,
           0,
           0,
           0
          ],
          [
           0,
           0,
           0,
           0,
           0,
           1,
           0,
           0,
           1,
           1,
           0,
           0,
           0,
           2
          ],
          [
           0,
           0,
           1,
           0,
           0,
           0,
           0,
           0,
           0,
           0,
           4,
           0,
           0,
           0
          ],
          [
           0,
           0,
           0,
           0,
           0,
           0,
           0,
           2,
           0,
           0,
           0,
           2,
           0,
           0
          ],
          [
           0,
           0,
           null,
           0,
           0,
           0,
           0,
           0,
           0,
           0,
           0,
           0,
           0,
           0
          ],
          [
           0,
           0,
           0,
           0,
           0,
           0,
           0,
           0,
           0,
           0,
           0,
           0,
           0,
           0
          ],
          [
           0,
           0,
           0,
           0,
           0,
           0,
           0,
           0,
           0,
           0,
           0,
           0,
           0,
           0
          ]
         ]
        }
       ],
       "layout": {
        "coloraxis": {
         "colorbar": {
          "title": {
           "text": "Points"
          }
         },
         "colorscale": [
          [
           0,
           "rgb(198, 219, 239)"
          ],
          [
           0.25,
           "rgb(107, 174, 214)"
          ],
          [
           0.5,
           "rgb(33,  113, 181)"
          ],
          [
           0.75,
           "rgb(8,   81,  156)"
          ],
          [
           1,
           "rgb(8,   48,  107)"
          ]
         ],
         "showscale": false
        },
        "margin": {
         "b": 0,
         "l": 0,
         "r": 0,
         "t": 0
        },
        "plot_bgcolor": "rgba(0,0,0,0)",
        "template": {
         "data": {
          "bar": [
           {
            "error_x": {
             "color": "#2a3f5f"
            },
            "error_y": {
             "color": "#2a3f5f"
            },
            "marker": {
             "line": {
              "color": "#E5ECF6",
              "width": 0.5
             },
             "pattern": {
              "fillmode": "overlay",
              "size": 10,
              "solidity": 0.2
             }
            },
            "type": "bar"
           }
          ],
          "barpolar": [
           {
            "marker": {
             "line": {
              "color": "#E5ECF6",
              "width": 0.5
             },
             "pattern": {
              "fillmode": "overlay",
              "size": 10,
              "solidity": 0.2
             }
            },
            "type": "barpolar"
           }
          ],
          "carpet": [
           {
            "aaxis": {
             "endlinecolor": "#2a3f5f",
             "gridcolor": "white",
             "linecolor": "white",
             "minorgridcolor": "white",
             "startlinecolor": "#2a3f5f"
            },
            "baxis": {
             "endlinecolor": "#2a3f5f",
             "gridcolor": "white",
             "linecolor": "white",
             "minorgridcolor": "white",
             "startlinecolor": "#2a3f5f"
            },
            "type": "carpet"
           }
          ],
          "choropleth": [
           {
            "colorbar": {
             "outlinewidth": 0,
             "ticks": ""
            },
            "type": "choropleth"
           }
          ],
          "contour": [
           {
            "colorbar": {
             "outlinewidth": 0,
             "ticks": ""
            },
            "colorscale": [
             [
              0,
              "#0d0887"
             ],
             [
              0.1111111111111111,
              "#46039f"
             ],
             [
              0.2222222222222222,
              "#7201a8"
             ],
             [
              0.3333333333333333,
              "#9c179e"
             ],
             [
              0.4444444444444444,
              "#bd3786"
             ],
             [
              0.5555555555555556,
              "#d8576b"
             ],
             [
              0.6666666666666666,
              "#ed7953"
             ],
             [
              0.7777777777777778,
              "#fb9f3a"
             ],
             [
              0.8888888888888888,
              "#fdca26"
             ],
             [
              1,
              "#f0f921"
             ]
            ],
            "type": "contour"
           }
          ],
          "contourcarpet": [
           {
            "colorbar": {
             "outlinewidth": 0,
             "ticks": ""
            },
            "type": "contourcarpet"
           }
          ],
          "heatmap": [
           {
            "colorbar": {
             "outlinewidth": 0,
             "ticks": ""
            },
            "colorscale": [
             [
              0,
              "#0d0887"
             ],
             [
              0.1111111111111111,
              "#46039f"
             ],
             [
              0.2222222222222222,
              "#7201a8"
             ],
             [
              0.3333333333333333,
              "#9c179e"
             ],
             [
              0.4444444444444444,
              "#bd3786"
             ],
             [
              0.5555555555555556,
              "#d8576b"
             ],
             [
              0.6666666666666666,
              "#ed7953"
             ],
             [
              0.7777777777777778,
              "#fb9f3a"
             ],
             [
              0.8888888888888888,
              "#fdca26"
             ],
             [
              1,
              "#f0f921"
             ]
            ],
            "type": "heatmap"
           }
          ],
          "heatmapgl": [
           {
            "colorbar": {
             "outlinewidth": 0,
             "ticks": ""
            },
            "colorscale": [
             [
              0,
              "#0d0887"
             ],
             [
              0.1111111111111111,
              "#46039f"
             ],
             [
              0.2222222222222222,
              "#7201a8"
             ],
             [
              0.3333333333333333,
              "#9c179e"
             ],
             [
              0.4444444444444444,
              "#bd3786"
             ],
             [
              0.5555555555555556,
              "#d8576b"
             ],
             [
              0.6666666666666666,
              "#ed7953"
             ],
             [
              0.7777777777777778,
              "#fb9f3a"
             ],
             [
              0.8888888888888888,
              "#fdca26"
             ],
             [
              1,
              "#f0f921"
             ]
            ],
            "type": "heatmapgl"
           }
          ],
          "histogram": [
           {
            "marker": {
             "pattern": {
              "fillmode": "overlay",
              "size": 10,
              "solidity": 0.2
             }
            },
            "type": "histogram"
           }
          ],
          "histogram2d": [
           {
            "colorbar": {
             "outlinewidth": 0,
             "ticks": ""
            },
            "colorscale": [
             [
              0,
              "#0d0887"
             ],
             [
              0.1111111111111111,
              "#46039f"
             ],
             [
              0.2222222222222222,
              "#7201a8"
             ],
             [
              0.3333333333333333,
              "#9c179e"
             ],
             [
              0.4444444444444444,
              "#bd3786"
             ],
             [
              0.5555555555555556,
              "#d8576b"
             ],
             [
              0.6666666666666666,
              "#ed7953"
             ],
             [
              0.7777777777777778,
              "#fb9f3a"
             ],
             [
              0.8888888888888888,
              "#fdca26"
             ],
             [
              1,
              "#f0f921"
             ]
            ],
            "type": "histogram2d"
           }
          ],
          "histogram2dcontour": [
           {
            "colorbar": {
             "outlinewidth": 0,
             "ticks": ""
            },
            "colorscale": [
             [
              0,
              "#0d0887"
             ],
             [
              0.1111111111111111,
              "#46039f"
             ],
             [
              0.2222222222222222,
              "#7201a8"
             ],
             [
              0.3333333333333333,
              "#9c179e"
             ],
             [
              0.4444444444444444,
              "#bd3786"
             ],
             [
              0.5555555555555556,
              "#d8576b"
             ],
             [
              0.6666666666666666,
              "#ed7953"
             ],
             [
              0.7777777777777778,
              "#fb9f3a"
             ],
             [
              0.8888888888888888,
              "#fdca26"
             ],
             [
              1,
              "#f0f921"
             ]
            ],
            "type": "histogram2dcontour"
           }
          ],
          "mesh3d": [
           {
            "colorbar": {
             "outlinewidth": 0,
             "ticks": ""
            },
            "type": "mesh3d"
           }
          ],
          "parcoords": [
           {
            "line": {
             "colorbar": {
              "outlinewidth": 0,
              "ticks": ""
             }
            },
            "type": "parcoords"
           }
          ],
          "pie": [
           {
            "automargin": true,
            "type": "pie"
           }
          ],
          "scatter": [
           {
            "fillpattern": {
             "fillmode": "overlay",
             "size": 10,
             "solidity": 0.2
            },
            "type": "scatter"
           }
          ],
          "scatter3d": [
           {
            "line": {
             "colorbar": {
              "outlinewidth": 0,
              "ticks": ""
             }
            },
            "marker": {
             "colorbar": {
              "outlinewidth": 0,
              "ticks": ""
             }
            },
            "type": "scatter3d"
           }
          ],
          "scattercarpet": [
           {
            "marker": {
             "colorbar": {
              "outlinewidth": 0,
              "ticks": ""
             }
            },
            "type": "scattercarpet"
           }
          ],
          "scattergeo": [
           {
            "marker": {
             "colorbar": {
              "outlinewidth": 0,
              "ticks": ""
             }
            },
            "type": "scattergeo"
           }
          ],
          "scattergl": [
           {
            "marker": {
             "colorbar": {
              "outlinewidth": 0,
              "ticks": ""
             }
            },
            "type": "scattergl"
           }
          ],
          "scattermapbox": [
           {
            "marker": {
             "colorbar": {
              "outlinewidth": 0,
              "ticks": ""
             }
            },
            "type": "scattermapbox"
           }
          ],
          "scatterpolar": [
           {
            "marker": {
             "colorbar": {
              "outlinewidth": 0,
              "ticks": ""
             }
            },
            "type": "scatterpolar"
           }
          ],
          "scatterpolargl": [
           {
            "marker": {
             "colorbar": {
              "outlinewidth": 0,
              "ticks": ""
             }
            },
            "type": "scatterpolargl"
           }
          ],
          "scatterternary": [
           {
            "marker": {
             "colorbar": {
              "outlinewidth": 0,
              "ticks": ""
             }
            },
            "type": "scatterternary"
           }
          ],
          "surface": [
           {
            "colorbar": {
             "outlinewidth": 0,
             "ticks": ""
            },
            "colorscale": [
             [
              0,
              "#0d0887"
             ],
             [
              0.1111111111111111,
              "#46039f"
             ],
             [
              0.2222222222222222,
              "#7201a8"
             ],
             [
              0.3333333333333333,
              "#9c179e"
             ],
             [
              0.4444444444444444,
              "#bd3786"
             ],
             [
              0.5555555555555556,
              "#d8576b"
             ],
             [
              0.6666666666666666,
              "#ed7953"
             ],
             [
              0.7777777777777778,
              "#fb9f3a"
             ],
             [
              0.8888888888888888,
              "#fdca26"
             ],
             [
              1,
              "#f0f921"
             ]
            ],
            "type": "surface"
           }
          ],
          "table": [
           {
            "cells": {
             "fill": {
              "color": "#EBF0F8"
             },
             "line": {
              "color": "white"
             }
            },
            "header": {
             "fill": {
              "color": "#C8D4E3"
             },
             "line": {
              "color": "white"
             }
            },
            "type": "table"
           }
          ]
         },
         "layout": {
          "annotationdefaults": {
           "arrowcolor": "#2a3f5f",
           "arrowhead": 0,
           "arrowwidth": 1
          },
          "autotypenumbers": "strict",
          "coloraxis": {
           "colorbar": {
            "outlinewidth": 0,
            "ticks": ""
           }
          },
          "colorscale": {
           "diverging": [
            [
             0,
             "#8e0152"
            ],
            [
             0.1,
             "#c51b7d"
            ],
            [
             0.2,
             "#de77ae"
            ],
            [
             0.3,
             "#f1b6da"
            ],
            [
             0.4,
             "#fde0ef"
            ],
            [
             0.5,
             "#f7f7f7"
            ],
            [
             0.6,
             "#e6f5d0"
            ],
            [
             0.7,
             "#b8e186"
            ],
            [
             0.8,
             "#7fbc41"
            ],
            [
             0.9,
             "#4d9221"
            ],
            [
             1,
             "#276419"
            ]
           ],
           "sequential": [
            [
             0,
             "#0d0887"
            ],
            [
             0.1111111111111111,
             "#46039f"
            ],
            [
             0.2222222222222222,
             "#7201a8"
            ],
            [
             0.3333333333333333,
             "#9c179e"
            ],
            [
             0.4444444444444444,
             "#bd3786"
            ],
            [
             0.5555555555555556,
             "#d8576b"
            ],
            [
             0.6666666666666666,
             "#ed7953"
            ],
            [
             0.7777777777777778,
             "#fb9f3a"
            ],
            [
             0.8888888888888888,
             "#fdca26"
            ],
            [
             1,
             "#f0f921"
            ]
           ],
           "sequentialminus": [
            [
             0,
             "#0d0887"
            ],
            [
             0.1111111111111111,
             "#46039f"
            ],
            [
             0.2222222222222222,
             "#7201a8"
            ],
            [
             0.3333333333333333,
             "#9c179e"
            ],
            [
             0.4444444444444444,
             "#bd3786"
            ],
            [
             0.5555555555555556,
             "#d8576b"
            ],
            [
             0.6666666666666666,
             "#ed7953"
            ],
            [
             0.7777777777777778,
             "#fb9f3a"
            ],
            [
             0.8888888888888888,
             "#fdca26"
            ],
            [
             1,
             "#f0f921"
            ]
           ]
          },
          "colorway": [
           "#636efa",
           "#EF553B",
           "#00cc96",
           "#ab63fa",
           "#FFA15A",
           "#19d3f3",
           "#FF6692",
           "#B6E880",
           "#FF97FF",
           "#FECB52"
          ],
          "font": {
           "color": "#2a3f5f"
          },
          "geo": {
           "bgcolor": "white",
           "lakecolor": "white",
           "landcolor": "#E5ECF6",
           "showlakes": true,
           "showland": true,
           "subunitcolor": "white"
          },
          "hoverlabel": {
           "align": "left"
          },
          "hovermode": "closest",
          "mapbox": {
           "style": "light"
          },
          "paper_bgcolor": "white",
          "plot_bgcolor": "#E5ECF6",
          "polar": {
           "angularaxis": {
            "gridcolor": "white",
            "linecolor": "white",
            "ticks": ""
           },
           "bgcolor": "#E5ECF6",
           "radialaxis": {
            "gridcolor": "white",
            "linecolor": "white",
            "ticks": ""
           }
          },
          "scene": {
           "xaxis": {
            "backgroundcolor": "#E5ECF6",
            "gridcolor": "white",
            "gridwidth": 2,
            "linecolor": "white",
            "showbackground": true,
            "ticks": "",
            "zerolinecolor": "white"
           },
           "yaxis": {
            "backgroundcolor": "#E5ECF6",
            "gridcolor": "white",
            "gridwidth": 2,
            "linecolor": "white",
            "showbackground": true,
            "ticks": "",
            "zerolinecolor": "white"
           },
           "zaxis": {
            "backgroundcolor": "#E5ECF6",
            "gridcolor": "white",
            "gridwidth": 2,
            "linecolor": "white",
            "showbackground": true,
            "ticks": "",
            "zerolinecolor": "white"
           }
          },
          "shapedefaults": {
           "line": {
            "color": "#2a3f5f"
           }
          },
          "ternary": {
           "aaxis": {
            "gridcolor": "white",
            "linecolor": "white",
            "ticks": ""
           },
           "baxis": {
            "gridcolor": "white",
            "linecolor": "white",
            "ticks": ""
           },
           "bgcolor": "#E5ECF6",
           "caxis": {
            "gridcolor": "white",
            "linecolor": "white",
            "ticks": ""
           }
          },
          "title": {
           "x": 0.05
          },
          "xaxis": {
           "automargin": true,
           "gridcolor": "white",
           "linecolor": "white",
           "ticks": "",
           "title": {
            "standoff": 15
           },
           "zerolinecolor": "white",
           "zerolinewidth": 2
          },
          "yaxis": {
           "automargin": true,
           "gridcolor": "white",
           "linecolor": "white",
           "ticks": "",
           "title": {
            "standoff": 15
           },
           "zerolinecolor": "white",
           "zerolinewidth": 2
          }
         }
        },
        "xaxis": {
         "anchor": "y",
         "domain": [
          0,
          1
         ],
         "showgrid": false,
         "showline": false,
         "side": "top",
         "title": {
          "text": ""
         }
        },
        "yaxis": {
         "anchor": "x",
         "autorange": "reversed",
         "domain": [
          0,
          1
         ],
         "gridcolor": "lightgrey",
         "gridwidth": 1,
         "showgrid": true,
         "showline": false,
         "tickmode": "linear",
         "tickson": "boundaries",
         "title": {
          "text": ""
         }
        }
       }
      }
     },
     "metadata": {},
     "output_type": "display_data"
    }
   ],
   "source": [
    "# plot\n",
    "fig = px.imshow(\n",
    "    results.drop(columns='Sum'),\n",
    "    text_auto=True,\n",
    "    aspect='auto',\n",
    "    color_continuous_scale=[[0,    'rgb(198, 219, 239)'],  # Blue scale\n",
    "                            [0.25, 'rgb(107, 174, 214)'],\n",
    "                            [0.5,  'rgb(33,  113, 181)'],\n",
    "                            [0.75, 'rgb(8,   81,  156)'],\n",
    "                            [1,    'rgb(8,   48,  107)']],\n",
    "    labels={'x':'Race',\n",
    "            'y':'Driver',\n",
    "            'color':'Points'}\n",
    ")\n",
    "fig2 = px.imshow(\n",
    "    results[['Sum']].values,\n",
    "    text_auto=True,\n",
    "    aspect='auto',\n",
    "    color_continuous_scale = [[0,    'rgb(255, 0, 0)'],      # Red\n",
    "                          [0.25, 'rgb(255, 165, 0)'],    # Orange\n",
    "                          [0.5,  'rgb(255, 255, 0)'],    # Yellow\n",
    "                          [0.75, 'rgb(0, 128, 0)'],      # Green\n",
    "                          [1,    'rgb(0, 100, 0)']],      # Dark Green\n",
    "    labels={'x':'Race',\n",
    "            'y':'Driver',\n",
    "            'color':'Points'}\n",
    ")\n",
    "# Update the layout of the second figure to adjust the position and size\n",
    "\"\"\" fig2.update_layout(xaxis=dict(side='top', visible=False),\n",
    "                   yaxis=dict(side='right', title='Driver'),\n",
    "                   coloraxis_colorbar=dict(yanchor='top', y=1, ypad=20)) \"\"\"\n",
    "\n",
    "# Combine the two figures into one\n",
    "fig = go.Figure(data=fig.data[0], layout=fig.layout)\n",
    "\n",
    "fig.update_yaxes(title_text='')\n",
    "fig.update_yaxes(tickmode='linear', showgrid=True, gridwidth=1, gridcolor='lightgrey', showline=False, tickson='boundaries')\n",
    "\n",
    "fig.update_xaxes(title_text='')\n",
    "fig.update_xaxes(showgrid=False, showline=False)\n",
    "fig.update_layout(plot_bgcolor='rgba(0,0,0,0)')     # White background\n",
    "fig.update_layout(coloraxis_showscale=False)        # Remove legend\n",
    "fig.update_layout(xaxis=dict(side='top'))           # x-axis on top\n",
    "fig.update_layout(margin=dict(l=0, r=0, b=0, t=0))  # Remove border margins\n",
    "show(fig)"
   ]
  },
  {
   "cell_type": "code",
   "execution_count": 49,
   "metadata": {},
   "outputs": [
    {
     "data": {
      "application/vnd.plotly.v1+json": {
       "config": {
        "plotlyServerURL": "https://plot.ly"
       },
       "data": [
        {
         "coloraxis": "coloraxis",
         "hovertemplate": "Race: %{x}<br>Driver: %{y}<br>Points: %{z}<extra></extra>",
         "name": "0",
         "texttemplate": "%{z}",
         "type": "heatmap",
         "x": [
          1,
          2,
          3,
          4,
          5,
          6,
          7,
          8,
          9,
          10,
          11,
          12,
          13,
          14
         ],
         "xaxis": "x",
         "y": [
          "VER",
          "NOR",
          "LEC",
          "PIA",
          "SAI",
          "HAM",
          "PER",
          "RUS",
          "ALO",
          "STR",
          "HUL",
          "TSU",
          "RIC",
          "BEA",
          "GAS",
          "OCO",
          "MAG",
          "ALB",
          "SAR",
          "BOT",
          "ZHO"
         ],
         "yaxis": "y",
         "z": [
          [
           26,
           25,
           0,
           26,
           33,
           26,
           25,
           8,
           25,
           25,
           18,
           18,
           10,
           12
          ],
          [
           8,
           4,
           15,
           10,
           21,
           25,
           18,
           12,
           18,
           19,
           6,
           15,
           18,
           10
          ],
          [
           12,
           16,
           19,
           12,
           17,
           22,
           15,
           25,
           0,
           10,
           2,
           0,
           12,
           15
          ],
          [
           4,
           12,
           12,
           4,
           6,
           3,
           12,
           18,
           10,
           6,
           25,
           12,
           25,
           18
          ],
          [
           15,
           null,
           25,
           15,
           14,
           14,
           10,
           15,
           0,
           8,
           19,
           11,
           8,
           8
          ],
          [
           6,
           2,
           0,
           2,
           9,
           8,
           8,
           7,
           13,
           15,
           15,
           25,
           15,
           25
          ],
          [
           18,
           18,
           10,
           18,
           21,
           18,
           4,
           0,
           0,
           4,
           7,
           0,
           6,
           7
          ],
          [
           10,
           8,
           0,
           6,
           9,
           4,
           7,
           10,
           15,
           12,
           30,
           0,
           5,
           0
          ],
          [
           2,
           10,
           4,
           8,
           7,
           2,
           0,
           0,
           8,
           0,
           0,
           4,
           0,
           4
          ],
          [
           1,
           0,
           8,
           0,
           0,
           0,
           2,
           0,
           6,
           0,
           0,
           6,
           1,
           0
          ],
          [
           0,
           1,
           2,
           0,
           1,
           2,
           0,
           0,
           0,
           0,
           8,
           8,
           0,
           0
          ],
          [
           0,
           0,
           6,
           1,
           0,
           7,
           1,
           4,
           0,
           0,
           0,
           1,
           2,
           0
          ],
          [
           0,
           0,
           0,
           0,
           0,
           5,
           0,
           0,
           4,
           0,
           2,
           0,
           0,
           1
          ],
          [
           null,
           6,
           null,
           null,
           null,
           null,
           null,
           null,
           null,
           null,
           null,
           null,
           null,
           null
          ],
          [
           0,
           0,
           0,
           0,
           0,
           0,
           0,
           1,
           2,
           2,
           1,
           0,
           0,
           0
          ],
          [
           0,
           0,
           0,
           0,
           0,
           1,
           0,
           0,
           1,
           1,
           0,
           0,
           0,
           2
          ],
          [
           0,
           0,
           1,
           0,
           0,
           0,
           0,
           0,
           0,
           0,
           4,
           0,
           0,
           0
          ],
          [
           0,
           0,
           0,
           0,
           0,
           0,
           0,
           2,
           0,
           0,
           0,
           2,
           0,
           0
          ],
          [
           0,
           0,
           null,
           0,
           0,
           0,
           0,
           0,
           0,
           0,
           0,
           0,
           0,
           0
          ],
          [
           0,
           0,
           0,
           0,
           0,
           0,
           0,
           0,
           0,
           0,
           0,
           0,
           0,
           0
          ],
          [
           0,
           0,
           0,
           0,
           0,
           0,
           0,
           0,
           0,
           0,
           0,
           0,
           0,
           0
          ]
         ]
        }
       ],
       "layout": {
        "coloraxis": {
         "colorbar": {
          "title": {
           "text": "Points"
          }
         },
         "colorscale": [
          [
           0,
           "rgba(1, 1, 1, 0.05)"
          ],
          [
           0.05,
           "rgba(255, 0, 0, 0.7)"
          ],
          [
           0.25,
           "rgba(255, 165, 0, 0.6)"
          ],
          [
           0.5,
           "rgba(255, 255, 0, 0.6)"
          ],
          [
           0.75,
           "rgba(0, 128, 0, 0.7)"
          ],
          [
           1,
           "rgba(0, 100, 0, 0.8)"
          ]
         ],
         "showscale": false
        },
        "margin": {
         "b": 0,
         "l": 0,
         "r": 0,
         "t": 0
        },
        "plot_bgcolor": "rgba(0,0,0,0)",
        "template": {
         "data": {
          "bar": [
           {
            "error_x": {
             "color": "#2a3f5f"
            },
            "error_y": {
             "color": "#2a3f5f"
            },
            "marker": {
             "line": {
              "color": "#E5ECF6",
              "width": 0.5
             },
             "pattern": {
              "fillmode": "overlay",
              "size": 10,
              "solidity": 0.2
             }
            },
            "type": "bar"
           }
          ],
          "barpolar": [
           {
            "marker": {
             "line": {
              "color": "#E5ECF6",
              "width": 0.5
             },
             "pattern": {
              "fillmode": "overlay",
              "size": 10,
              "solidity": 0.2
             }
            },
            "type": "barpolar"
           }
          ],
          "carpet": [
           {
            "aaxis": {
             "endlinecolor": "#2a3f5f",
             "gridcolor": "white",
             "linecolor": "white",
             "minorgridcolor": "white",
             "startlinecolor": "#2a3f5f"
            },
            "baxis": {
             "endlinecolor": "#2a3f5f",
             "gridcolor": "white",
             "linecolor": "white",
             "minorgridcolor": "white",
             "startlinecolor": "#2a3f5f"
            },
            "type": "carpet"
           }
          ],
          "choropleth": [
           {
            "colorbar": {
             "outlinewidth": 0,
             "ticks": ""
            },
            "type": "choropleth"
           }
          ],
          "contour": [
           {
            "colorbar": {
             "outlinewidth": 0,
             "ticks": ""
            },
            "colorscale": [
             [
              0,
              "#0d0887"
             ],
             [
              0.1111111111111111,
              "#46039f"
             ],
             [
              0.2222222222222222,
              "#7201a8"
             ],
             [
              0.3333333333333333,
              "#9c179e"
             ],
             [
              0.4444444444444444,
              "#bd3786"
             ],
             [
              0.5555555555555556,
              "#d8576b"
             ],
             [
              0.6666666666666666,
              "#ed7953"
             ],
             [
              0.7777777777777778,
              "#fb9f3a"
             ],
             [
              0.8888888888888888,
              "#fdca26"
             ],
             [
              1,
              "#f0f921"
             ]
            ],
            "type": "contour"
           }
          ],
          "contourcarpet": [
           {
            "colorbar": {
             "outlinewidth": 0,
             "ticks": ""
            },
            "type": "contourcarpet"
           }
          ],
          "heatmap": [
           {
            "colorbar": {
             "outlinewidth": 0,
             "ticks": ""
            },
            "colorscale": [
             [
              0,
              "#0d0887"
             ],
             [
              0.1111111111111111,
              "#46039f"
             ],
             [
              0.2222222222222222,
              "#7201a8"
             ],
             [
              0.3333333333333333,
              "#9c179e"
             ],
             [
              0.4444444444444444,
              "#bd3786"
             ],
             [
              0.5555555555555556,
              "#d8576b"
             ],
             [
              0.6666666666666666,
              "#ed7953"
             ],
             [
              0.7777777777777778,
              "#fb9f3a"
             ],
             [
              0.8888888888888888,
              "#fdca26"
             ],
             [
              1,
              "#f0f921"
             ]
            ],
            "type": "heatmap"
           }
          ],
          "heatmapgl": [
           {
            "colorbar": {
             "outlinewidth": 0,
             "ticks": ""
            },
            "colorscale": [
             [
              0,
              "#0d0887"
             ],
             [
              0.1111111111111111,
              "#46039f"
             ],
             [
              0.2222222222222222,
              "#7201a8"
             ],
             [
              0.3333333333333333,
              "#9c179e"
             ],
             [
              0.4444444444444444,
              "#bd3786"
             ],
             [
              0.5555555555555556,
              "#d8576b"
             ],
             [
              0.6666666666666666,
              "#ed7953"
             ],
             [
              0.7777777777777778,
              "#fb9f3a"
             ],
             [
              0.8888888888888888,
              "#fdca26"
             ],
             [
              1,
              "#f0f921"
             ]
            ],
            "type": "heatmapgl"
           }
          ],
          "histogram": [
           {
            "marker": {
             "pattern": {
              "fillmode": "overlay",
              "size": 10,
              "solidity": 0.2
             }
            },
            "type": "histogram"
           }
          ],
          "histogram2d": [
           {
            "colorbar": {
             "outlinewidth": 0,
             "ticks": ""
            },
            "colorscale": [
             [
              0,
              "#0d0887"
             ],
             [
              0.1111111111111111,
              "#46039f"
             ],
             [
              0.2222222222222222,
              "#7201a8"
             ],
             [
              0.3333333333333333,
              "#9c179e"
             ],
             [
              0.4444444444444444,
              "#bd3786"
             ],
             [
              0.5555555555555556,
              "#d8576b"
             ],
             [
              0.6666666666666666,
              "#ed7953"
             ],
             [
              0.7777777777777778,
              "#fb9f3a"
             ],
             [
              0.8888888888888888,
              "#fdca26"
             ],
             [
              1,
              "#f0f921"
             ]
            ],
            "type": "histogram2d"
           }
          ],
          "histogram2dcontour": [
           {
            "colorbar": {
             "outlinewidth": 0,
             "ticks": ""
            },
            "colorscale": [
             [
              0,
              "#0d0887"
             ],
             [
              0.1111111111111111,
              "#46039f"
             ],
             [
              0.2222222222222222,
              "#7201a8"
             ],
             [
              0.3333333333333333,
              "#9c179e"
             ],
             [
              0.4444444444444444,
              "#bd3786"
             ],
             [
              0.5555555555555556,
              "#d8576b"
             ],
             [
              0.6666666666666666,
              "#ed7953"
             ],
             [
              0.7777777777777778,
              "#fb9f3a"
             ],
             [
              0.8888888888888888,
              "#fdca26"
             ],
             [
              1,
              "#f0f921"
             ]
            ],
            "type": "histogram2dcontour"
           }
          ],
          "mesh3d": [
           {
            "colorbar": {
             "outlinewidth": 0,
             "ticks": ""
            },
            "type": "mesh3d"
           }
          ],
          "parcoords": [
           {
            "line": {
             "colorbar": {
              "outlinewidth": 0,
              "ticks": ""
             }
            },
            "type": "parcoords"
           }
          ],
          "pie": [
           {
            "automargin": true,
            "type": "pie"
           }
          ],
          "scatter": [
           {
            "fillpattern": {
             "fillmode": "overlay",
             "size": 10,
             "solidity": 0.2
            },
            "type": "scatter"
           }
          ],
          "scatter3d": [
           {
            "line": {
             "colorbar": {
              "outlinewidth": 0,
              "ticks": ""
             }
            },
            "marker": {
             "colorbar": {
              "outlinewidth": 0,
              "ticks": ""
             }
            },
            "type": "scatter3d"
           }
          ],
          "scattercarpet": [
           {
            "marker": {
             "colorbar": {
              "outlinewidth": 0,
              "ticks": ""
             }
            },
            "type": "scattercarpet"
           }
          ],
          "scattergeo": [
           {
            "marker": {
             "colorbar": {
              "outlinewidth": 0,
              "ticks": ""
             }
            },
            "type": "scattergeo"
           }
          ],
          "scattergl": [
           {
            "marker": {
             "colorbar": {
              "outlinewidth": 0,
              "ticks": ""
             }
            },
            "type": "scattergl"
           }
          ],
          "scattermapbox": [
           {
            "marker": {
             "colorbar": {
              "outlinewidth": 0,
              "ticks": ""
             }
            },
            "type": "scattermapbox"
           }
          ],
          "scatterpolar": [
           {
            "marker": {
             "colorbar": {
              "outlinewidth": 0,
              "ticks": ""
             }
            },
            "type": "scatterpolar"
           }
          ],
          "scatterpolargl": [
           {
            "marker": {
             "colorbar": {
              "outlinewidth": 0,
              "ticks": ""
             }
            },
            "type": "scatterpolargl"
           }
          ],
          "scatterternary": [
           {
            "marker": {
             "colorbar": {
              "outlinewidth": 0,
              "ticks": ""
             }
            },
            "type": "scatterternary"
           }
          ],
          "surface": [
           {
            "colorbar": {
             "outlinewidth": 0,
             "ticks": ""
            },
            "colorscale": [
             [
              0,
              "#0d0887"
             ],
             [
              0.1111111111111111,
              "#46039f"
             ],
             [
              0.2222222222222222,
              "#7201a8"
             ],
             [
              0.3333333333333333,
              "#9c179e"
             ],
             [
              0.4444444444444444,
              "#bd3786"
             ],
             [
              0.5555555555555556,
              "#d8576b"
             ],
             [
              0.6666666666666666,
              "#ed7953"
             ],
             [
              0.7777777777777778,
              "#fb9f3a"
             ],
             [
              0.8888888888888888,
              "#fdca26"
             ],
             [
              1,
              "#f0f921"
             ]
            ],
            "type": "surface"
           }
          ],
          "table": [
           {
            "cells": {
             "fill": {
              "color": "#EBF0F8"
             },
             "line": {
              "color": "white"
             }
            },
            "header": {
             "fill": {
              "color": "#C8D4E3"
             },
             "line": {
              "color": "white"
             }
            },
            "type": "table"
           }
          ]
         },
         "layout": {
          "annotationdefaults": {
           "arrowcolor": "#2a3f5f",
           "arrowhead": 0,
           "arrowwidth": 1
          },
          "autotypenumbers": "strict",
          "coloraxis": {
           "colorbar": {
            "outlinewidth": 0,
            "ticks": ""
           }
          },
          "colorscale": {
           "diverging": [
            [
             0,
             "#8e0152"
            ],
            [
             0.1,
             "#c51b7d"
            ],
            [
             0.2,
             "#de77ae"
            ],
            [
             0.3,
             "#f1b6da"
            ],
            [
             0.4,
             "#fde0ef"
            ],
            [
             0.5,
             "#f7f7f7"
            ],
            [
             0.6,
             "#e6f5d0"
            ],
            [
             0.7,
             "#b8e186"
            ],
            [
             0.8,
             "#7fbc41"
            ],
            [
             0.9,
             "#4d9221"
            ],
            [
             1,
             "#276419"
            ]
           ],
           "sequential": [
            [
             0,
             "#0d0887"
            ],
            [
             0.1111111111111111,
             "#46039f"
            ],
            [
             0.2222222222222222,
             "#7201a8"
            ],
            [
             0.3333333333333333,
             "#9c179e"
            ],
            [
             0.4444444444444444,
             "#bd3786"
            ],
            [
             0.5555555555555556,
             "#d8576b"
            ],
            [
             0.6666666666666666,
             "#ed7953"
            ],
            [
             0.7777777777777778,
             "#fb9f3a"
            ],
            [
             0.8888888888888888,
             "#fdca26"
            ],
            [
             1,
             "#f0f921"
            ]
           ],
           "sequentialminus": [
            [
             0,
             "#0d0887"
            ],
            [
             0.1111111111111111,
             "#46039f"
            ],
            [
             0.2222222222222222,
             "#7201a8"
            ],
            [
             0.3333333333333333,
             "#9c179e"
            ],
            [
             0.4444444444444444,
             "#bd3786"
            ],
            [
             0.5555555555555556,
             "#d8576b"
            ],
            [
             0.6666666666666666,
             "#ed7953"
            ],
            [
             0.7777777777777778,
             "#fb9f3a"
            ],
            [
             0.8888888888888888,
             "#fdca26"
            ],
            [
             1,
             "#f0f921"
            ]
           ]
          },
          "colorway": [
           "#636efa",
           "#EF553B",
           "#00cc96",
           "#ab63fa",
           "#FFA15A",
           "#19d3f3",
           "#FF6692",
           "#B6E880",
           "#FF97FF",
           "#FECB52"
          ],
          "font": {
           "color": "#2a3f5f"
          },
          "geo": {
           "bgcolor": "white",
           "lakecolor": "white",
           "landcolor": "#E5ECF6",
           "showlakes": true,
           "showland": true,
           "subunitcolor": "white"
          },
          "hoverlabel": {
           "align": "left"
          },
          "hovermode": "closest",
          "mapbox": {
           "style": "light"
          },
          "paper_bgcolor": "white",
          "plot_bgcolor": "#E5ECF6",
          "polar": {
           "angularaxis": {
            "gridcolor": "white",
            "linecolor": "white",
            "ticks": ""
           },
           "bgcolor": "#E5ECF6",
           "radialaxis": {
            "gridcolor": "white",
            "linecolor": "white",
            "ticks": ""
           }
          },
          "scene": {
           "xaxis": {
            "backgroundcolor": "#E5ECF6",
            "gridcolor": "white",
            "gridwidth": 2,
            "linecolor": "white",
            "showbackground": true,
            "ticks": "",
            "zerolinecolor": "white"
           },
           "yaxis": {
            "backgroundcolor": "#E5ECF6",
            "gridcolor": "white",
            "gridwidth": 2,
            "linecolor": "white",
            "showbackground": true,
            "ticks": "",
            "zerolinecolor": "white"
           },
           "zaxis": {
            "backgroundcolor": "#E5ECF6",
            "gridcolor": "white",
            "gridwidth": 2,
            "linecolor": "white",
            "showbackground": true,
            "ticks": "",
            "zerolinecolor": "white"
           }
          },
          "shapedefaults": {
           "line": {
            "color": "#2a3f5f"
           }
          },
          "ternary": {
           "aaxis": {
            "gridcolor": "white",
            "linecolor": "white",
            "ticks": ""
           },
           "baxis": {
            "gridcolor": "white",
            "linecolor": "white",
            "ticks": ""
           },
           "bgcolor": "#E5ECF6",
           "caxis": {
            "gridcolor": "white",
            "linecolor": "white",
            "ticks": ""
           }
          },
          "title": {
           "x": 0.05
          },
          "xaxis": {
           "automargin": true,
           "gridcolor": "white",
           "linecolor": "white",
           "ticks": "",
           "title": {
            "standoff": 15
           },
           "zerolinecolor": "white",
           "zerolinewidth": 2
          },
          "yaxis": {
           "automargin": true,
           "gridcolor": "white",
           "linecolor": "white",
           "ticks": "",
           "title": {
            "standoff": 15
           },
           "zerolinecolor": "white",
           "zerolinewidth": 2
          }
         }
        },
        "xaxis": {
         "anchor": "y",
         "domain": [
          0,
          1
         ],
         "showgrid": false,
         "showline": false,
         "side": "top",
         "title": {
          "text": ""
         }
        },
        "yaxis": {
         "anchor": "x",
         "autorange": "reversed",
         "domain": [
          0,
          1
         ],
         "gridcolor": "lightgrey",
         "gridwidth": 1,
         "showgrid": true,
         "showline": false,
         "tickmode": "linear",
         "tickson": "boundaries",
         "title": {
          "text": ""
         }
        }
       }
      }
     },
     "metadata": {},
     "output_type": "display_data"
    }
   ],
   "source": [
    "# plot\n",
    "fig=go.Figure()\n",
    "fig = px.imshow(\n",
    "    results.drop(columns='Sum'),\n",
    "    text_auto=True,\n",
    "    aspect='auto',\n",
    "    color_continuous_scale=[[0,    'rgba(1, 1, 1, 0.05)'],\n",
    "                            [0.05,    'rgba(255, 0, 0, 0.7)'],      # Red\n",
    "                           [0.25, 'rgba(255, 165, 0, 0.6)'],    # Orange\n",
    "                           [0.5,  'rgba(255, 255, 0, 0.6)'],    # Yellow\n",
    "                           [0.75, 'rgba(0, 128, 0, 0.7)'],      # Green\n",
    "                           [1,    'rgba(0, 100, 0, 0.8)']],      # Dark Green\n",
    "    labels={'x':'Race',\n",
    "            'y':'Driver',\n",
    "            'color':'Points'}\n",
    ")\n",
    "\n",
    "# fig2 = px.imshow(\n",
    "#     results[['Sum']].values,\n",
    "#     text_auto=True,\n",
    "#     aspect='auto',\n",
    "#     color_continuous_scale = [[0,    'rgb(255, 0, 0)'],      # Red\n",
    "#                           [0.25, 'rgb(255, 165, 0)'],    # Orange\n",
    "#                           [0.5,  'rgb(255, 255, 0)'],    # Yellow\n",
    "#                           [0.75, 'rgb(0, 128, 0)'],      # Green\n",
    "#                           [1,    'rgb(0, 100, 0)']],      # Dark Green\n",
    "#     labels={'x':'Race',\n",
    "#             'y':'Driver',\n",
    "#             'color':'Points'}\n",
    "# )\n",
    "# Update the layout of the second figure to adjust the position and size\n",
    "\"\"\" fig2.update_layout(xaxis=dict(side='top', visible=False),\n",
    "                   yaxis=dict(side='right', title='Driver'),\n",
    "                   coloraxis_colorbar=dict(yanchor='top', y=1, ypad=20)) \"\"\"\n",
    "\n",
    "# Combine the two figures into one\n",
    "fig = go.Figure(data=fig.data[0], layout=fig.layout)\n",
    "\n",
    "fig.update_yaxes(title_text='')\n",
    "fig.update_yaxes(tickmode='linear', showgrid=True, gridwidth=1, gridcolor='lightgrey', showline=False, tickson='boundaries')\n",
    "\n",
    "fig.update_xaxes(title_text='')\n",
    "fig.update_xaxes(showgrid=False, showline=False)\n",
    "fig.update_layout(plot_bgcolor='rgba(0,0,0,0)')     # White background\n",
    "fig.update_layout(coloraxis_showscale=False)        # Remove legend\n",
    "fig.update_layout(xaxis=dict(side='top'))           # x-axis on top\n",
    "fig.update_layout(margin=dict(l=0, r=0, b=0, t=0))  # Remove border margins\n",
    "show(fig)"
   ]
  },
  {
   "cell_type": "code",
   "execution_count": 52,
   "metadata": {},
   "outputs": [],
   "source": [
    "fastf1.Cache.clear_cache()"
   ]
  }
 ],
 "metadata": {
  "kernelspec": {
   "display_name": "main",
   "language": "python",
   "name": "python3"
  },
  "language_info": {
   "codemirror_mode": {
    "name": "ipython",
    "version": 3
   },
   "file_extension": ".py",
   "mimetype": "text/x-python",
   "name": "python",
   "nbconvert_exporter": "python",
   "pygments_lexer": "ipython3",
   "version": "3.10.13"
  }
 },
 "nbformat": 4,
 "nbformat_minor": 2
}
