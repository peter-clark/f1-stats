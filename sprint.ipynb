{
 "cells": [
  {
   "cell_type": "code",
   "execution_count": 1,
   "metadata": {},
   "outputs": [],
   "source": [
    "import fastf1 as f1\n",
    "import fastf1.plotting\n",
    "import matplotlib.pyplot as plt\n",
    "import numpy as np\n",
    "fastf1.plotting.setup_mpl()\n",
    "import datetime\n",
    "import os\n",
    "\n",
    "\n",
    "fastf1.Cache.enable_cache(os.getcwd())"
   ]
  },
  {
   "cell_type": "code",
   "execution_count": 2,
   "metadata": {},
   "outputs": [
    {
     "name": "stdout",
     "output_type": "stream",
     "text": [
      "The date today is: 2024-05-03\n",
      "The races that have already happened are the following:\n",
      "   Sakhir 2024-03-02\n",
      "   Jeddah 2024-03-09\n",
      "Melbourne 2024-03-24\n",
      "   Suzuka 2024-04-07\n",
      " Shanghai 2024-04-21\n",
      "---Next Race---\n",
      "Miami 2024-05-05\n"
     ]
    }
   ],
   "source": [
    "now = datetime.date.today().strftime('%Y-%m-%d')\n",
    "print(f\"The date today is: {now}\\nThe races that have already happened are the following:\")\n",
    "schedule = f1.get_event_schedule(2024)\n",
    "schedule_to_date = schedule[schedule.EventDate<now]\n",
    "schedule_to_date = schedule_to_date[schedule_to_date.RoundNumber>0]\n",
    "print(f\"{schedule_to_date[['Location','EventDate']].to_string(index=False, header=False)}\")\n",
    "n=max(schedule_to_date['RoundNumber'])+1\n",
    "print(f\"---Next Race---\\n{schedule.Location.loc[n]} {schedule.EventDate.loc[n].strftime('%Y-%m-%d')}\")"
   ]
  },
  {
   "cell_type": "code",
   "execution_count": 8,
   "metadata": {},
   "outputs": [
    {
     "name": "stdout",
     "output_type": "stream",
     "text": [
      "    RoundNumber        Country   Location  \\\n",
      "5             5          China   Shanghai   \n",
      "6             6          Miami      Miami   \n",
      "11           11        Austria  Spielberg   \n",
      "19           19  United States     Austin   \n",
      "21           21         Brazil  São Paulo   \n",
      "23           23          Qatar     Lusail   \n",
      "\n",
      "                                   OfficialEventName  EventDate  \\\n",
      "5           FORMULA 1 LENOVO CHINESE GRAND PRIX 2024 2024-04-21   \n",
      "6         FORMULA 1 CRYPTO.COM MIAMI GRAND PRIX 2024 2024-05-05   \n",
      "11  FORMULA 1 QATAR AIRWAYS AUSTRIAN GRAND PRIX 2024 2024-06-30   \n",
      "19   FORMULA 1 PIRELLI UNITED STATES GRAND PRIX 2024 2024-10-20   \n",
      "21  FORMULA 1 LENOVO GRANDE PRÊMIO DE SÃO PAULO 2024 2024-11-03   \n",
      "23     FORMULA 1 QATAR AIRWAYS QATAR GRAND PRIX 2024 2024-12-01   \n",
      "\n",
      "                   EventName        EventFormat    Session1  \\\n",
      "5         Chinese Grand Prix  sprint_qualifying  Practice 1   \n",
      "6           Miami Grand Prix  sprint_qualifying  Practice 1   \n",
      "11       Austrian Grand Prix  sprint_qualifying  Practice 1   \n",
      "19  United States Grand Prix  sprint_qualifying  Practice 1   \n",
      "21      São Paulo Grand Prix  sprint_qualifying  Practice 1   \n",
      "23          Qatar Grand Prix  sprint_qualifying  Practice 1   \n",
      "\n",
      "                 Session1Date     Session1DateUtc  ... Session3  \\\n",
      "5   2024-04-19 11:30:00+08:00 2024-04-19 03:30:00  ...   Sprint   \n",
      "6   2024-05-03 12:30:00-04:00 2024-05-03 16:30:00  ...   Sprint   \n",
      "11  2024-06-28 12:30:00+02:00 2024-06-28 10:30:00  ...   Sprint   \n",
      "19  2024-10-18 12:30:00-05:00 2024-10-18 17:30:00  ...   Sprint   \n",
      "21  2024-11-01 11:30:00-03:00 2024-11-01 14:30:00  ...   Sprint   \n",
      "23  2024-11-29 16:30:00+03:00 2024-11-29 13:30:00  ...   Sprint   \n",
      "\n",
      "                 Session3Date     Session3DateUtc    Session4  \\\n",
      "5   2024-04-20 11:00:00+08:00 2024-04-20 03:00:00  Qualifying   \n",
      "6   2024-05-04 12:00:00-04:00 2024-05-04 16:00:00  Qualifying   \n",
      "11  2024-06-29 12:00:00+02:00 2024-06-29 10:00:00  Qualifying   \n",
      "19  2024-10-19 13:00:00-05:00 2024-10-19 18:00:00  Qualifying   \n",
      "21  2024-11-02 11:00:00-03:00 2024-11-02 14:00:00  Qualifying   \n",
      "23  2024-11-30 16:00:00+03:00 2024-11-30 13:00:00  Qualifying   \n",
      "\n",
      "                 Session4Date     Session4DateUtc Session5  \\\n",
      "5   2024-04-20 15:00:00+08:00 2024-04-20 07:00:00     Race   \n",
      "6   2024-05-04 16:00:00-04:00 2024-05-04 20:00:00     Race   \n",
      "11  2024-06-29 16:00:00+02:00 2024-06-29 14:00:00     Race   \n",
      "19  2024-10-19 17:00:00-05:00 2024-10-19 22:00:00     Race   \n",
      "21  2024-11-02 15:00:00-03:00 2024-11-02 18:00:00     Race   \n",
      "23  2024-11-30 20:00:00+03:00 2024-11-30 17:00:00     Race   \n",
      "\n",
      "                 Session5Date     Session5DateUtc F1ApiSupport  \n",
      "5   2024-04-21 15:00:00+08:00 2024-04-21 07:00:00         True  \n",
      "6   2024-05-05 16:00:00-04:00 2024-05-05 20:00:00         True  \n",
      "11  2024-06-30 15:00:00+02:00 2024-06-30 13:00:00         True  \n",
      "19  2024-10-20 14:00:00-05:00 2024-10-20 19:00:00         True  \n",
      "21  2024-11-03 14:00:00-03:00 2024-11-03 17:00:00         True  \n",
      "23  2024-12-01 20:00:00+03:00 2024-12-01 17:00:00         True  \n",
      "\n",
      "[6 rows x 23 columns]\n"
     ]
    }
   ],
   "source": [
    "sprint_schedule = schedule.loc[schedule['Session3']=='Sprint']\n",
    "print(sprint_schedule)"
   ]
  },
  {
   "cell_type": "code",
   "execution_count": 12,
   "metadata": {},
   "outputs": [
    {
     "ename": "AttributeError",
     "evalue": "'Series' object has no attribute 'get_loc'",
     "output_type": "error",
     "traceback": [
      "\u001b[0;31m---------------------------------------------------------------------------\u001b[0m",
      "\u001b[0;31mAttributeError\u001b[0m                            Traceback (most recent call last)",
      "\u001b[0;32m/var/folders/_m/vj49vq3972b166bph370j1kw0000gn/T/ipykernel_66352/1828523303.py\u001b[0m in \u001b[0;36m?\u001b[0;34m()\u001b[0m\n\u001b[0;32m----> 1\u001b[0;31m \u001b[0mprint\u001b[0m\u001b[0;34m(\u001b[0m\u001b[0mschedule\u001b[0m\u001b[0;34m[\u001b[0m\u001b[0;34m'Location'\u001b[0m\u001b[0;34m]\u001b[0m\u001b[0;34m.\u001b[0m\u001b[0mget_loc\u001b[0m\u001b[0;34m[\u001b[0m\u001b[0;34m'Miami'\u001b[0m\u001b[0;34m]\u001b[0m\u001b[0;34m)\u001b[0m\u001b[0;34m\u001b[0m\u001b[0;34m\u001b[0m\u001b[0m\n\u001b[0m",
      "\u001b[0;32m~/opt/anaconda3/envs/main/lib/python3.10/site-packages/pandas/core/generic.py\u001b[0m in \u001b[0;36m?\u001b[0;34m(self, name)\u001b[0m\n\u001b[1;32m   5571\u001b[0m             \u001b[0;32mand\u001b[0m \u001b[0mname\u001b[0m \u001b[0;32mnot\u001b[0m \u001b[0;32min\u001b[0m \u001b[0mself\u001b[0m\u001b[0;34m.\u001b[0m\u001b[0m_accessors\u001b[0m\u001b[0;34m\u001b[0m\u001b[0;34m\u001b[0m\u001b[0m\n\u001b[1;32m   5572\u001b[0m             \u001b[0;32mand\u001b[0m \u001b[0mself\u001b[0m\u001b[0;34m.\u001b[0m\u001b[0m_info_axis\u001b[0m\u001b[0;34m.\u001b[0m\u001b[0m_can_hold_identifiers_and_holds_name\u001b[0m\u001b[0;34m(\u001b[0m\u001b[0mname\u001b[0m\u001b[0;34m)\u001b[0m\u001b[0;34m\u001b[0m\u001b[0;34m\u001b[0m\u001b[0m\n\u001b[1;32m   5573\u001b[0m         ):\n\u001b[1;32m   5574\u001b[0m             \u001b[0;32mreturn\u001b[0m \u001b[0mself\u001b[0m\u001b[0;34m[\u001b[0m\u001b[0mname\u001b[0m\u001b[0;34m]\u001b[0m\u001b[0;34m\u001b[0m\u001b[0;34m\u001b[0m\u001b[0m\n\u001b[0;32m-> 5575\u001b[0;31m         \u001b[0;32mreturn\u001b[0m \u001b[0mobject\u001b[0m\u001b[0;34m.\u001b[0m\u001b[0m__getattribute__\u001b[0m\u001b[0;34m(\u001b[0m\u001b[0mself\u001b[0m\u001b[0;34m,\u001b[0m \u001b[0mname\u001b[0m\u001b[0;34m)\u001b[0m\u001b[0;34m\u001b[0m\u001b[0;34m\u001b[0m\u001b[0m\n\u001b[0m",
      "\u001b[0;31mAttributeError\u001b[0m: 'Series' object has no attribute 'get_loc'"
     ]
    }
   ],
   "source": [
    "print(schedule['Location'].loc['Miami'])"
   ]
  },
  {
   "cell_type": "code",
   "execution_count": 13,
   "metadata": {},
   "outputs": [
    {
     "ename": "AttributeError",
     "evalue": "'EventSchedule' object has no attribute 'get_session'",
     "output_type": "error",
     "traceback": [
      "\u001b[0;31m---------------------------------------------------------------------------\u001b[0m",
      "\u001b[0;31mAttributeError\u001b[0m                            Traceback (most recent call last)",
      "\u001b[0;32m/var/folders/_m/vj49vq3972b166bph370j1kw0000gn/T/ipykernel_66352/3909744077.py\u001b[0m in \u001b[0;36m?\u001b[0;34m()\u001b[0m\n\u001b[1;32m      1\u001b[0m \u001b[0msession_name\u001b[0m\u001b[0;34m=\u001b[0m\u001b[0;34m'Miami'\u001b[0m\u001b[0;34m\u001b[0m\u001b[0;34m\u001b[0m\u001b[0m\n\u001b[1;32m      2\u001b[0m \u001b[0;34m\u001b[0m\u001b[0m\n\u001b[0;32m----> 3\u001b[0;31m \u001b[0msession\u001b[0m \u001b[0;34m=\u001b[0m \u001b[0mf1\u001b[0m\u001b[0;34m.\u001b[0m\u001b[0mevents\u001b[0m\u001b[0;34m.\u001b[0m\u001b[0mEvent\u001b[0m\u001b[0;34m.\u001b[0m\u001b[0mget_sprint_qualifying\u001b[0m\u001b[0;34m(\u001b[0m\u001b[0mschedule\u001b[0m\u001b[0;34m[\u001b[0m\u001b[0mschedule\u001b[0m\u001b[0;34m[\u001b[0m\u001b[0;34m'Location'\u001b[0m\u001b[0;34m]\u001b[0m\u001b[0;34m==\u001b[0m\u001b[0msession_name\u001b[0m\u001b[0;34m]\u001b[0m\u001b[0;34m)\u001b[0m\u001b[0;34m\u001b[0m\u001b[0;34m\u001b[0m\u001b[0m\n\u001b[0m\u001b[1;32m      4\u001b[0m \u001b[0msession\u001b[0m\u001b[0;34m.\u001b[0m\u001b[0mload\u001b[0m\u001b[0;34m(\u001b[0m\u001b[0mtelemetry\u001b[0m\u001b[0;34m=\u001b[0m\u001b[0;32mFalse\u001b[0m\u001b[0;34m,\u001b[0m \u001b[0mweather\u001b[0m\u001b[0;34m=\u001b[0m\u001b[0;32mFalse\u001b[0m\u001b[0;34m)\u001b[0m\u001b[0;34m\u001b[0m\u001b[0;34m\u001b[0m\u001b[0m\n",
      "\u001b[0;32m~/opt/anaconda3/envs/main/lib/python3.10/site-packages/fastf1/events.py\u001b[0m in \u001b[0;36m?\u001b[0;34m(self)\u001b[0m\n\u001b[1;32m   1160\u001b[0m     \u001b[0;32mdef\u001b[0m \u001b[0mget_sprint_qualifying\u001b[0m\u001b[0;34m(\u001b[0m\u001b[0mself\u001b[0m\u001b[0;34m)\u001b[0m \u001b[0;34m->\u001b[0m \u001b[0;34m\"Session\"\u001b[0m\u001b[0;34m:\u001b[0m\u001b[0;34m\u001b[0m\u001b[0;34m\u001b[0m\u001b[0m\n\u001b[1;32m   1161\u001b[0m         \u001b[0;34m\"\"\"Return the sprint qualifying session.\"\"\"\u001b[0m\u001b[0;34m\u001b[0m\u001b[0;34m\u001b[0m\u001b[0m\n\u001b[0;32m-> 1162\u001b[0;31m         \u001b[0;32mreturn\u001b[0m \u001b[0mself\u001b[0m\u001b[0;34m.\u001b[0m\u001b[0mget_session\u001b[0m\u001b[0;34m(\u001b[0m\u001b[0;34m'Sprint Qualifying'\u001b[0m\u001b[0;34m)\u001b[0m\u001b[0;34m\u001b[0m\u001b[0;34m\u001b[0m\u001b[0m\n\u001b[0m",
      "\u001b[0;32m~/opt/anaconda3/envs/main/lib/python3.10/site-packages/pandas/core/generic.py\u001b[0m in \u001b[0;36m?\u001b[0;34m(self, name)\u001b[0m\n\u001b[1;32m   5571\u001b[0m             \u001b[0;32mand\u001b[0m \u001b[0mname\u001b[0m \u001b[0;32mnot\u001b[0m \u001b[0;32min\u001b[0m \u001b[0mself\u001b[0m\u001b[0;34m.\u001b[0m\u001b[0m_accessors\u001b[0m\u001b[0;34m\u001b[0m\u001b[0;34m\u001b[0m\u001b[0m\n\u001b[1;32m   5572\u001b[0m             \u001b[0;32mand\u001b[0m \u001b[0mself\u001b[0m\u001b[0;34m.\u001b[0m\u001b[0m_info_axis\u001b[0m\u001b[0;34m.\u001b[0m\u001b[0m_can_hold_identifiers_and_holds_name\u001b[0m\u001b[0;34m(\u001b[0m\u001b[0mname\u001b[0m\u001b[0;34m)\u001b[0m\u001b[0;34m\u001b[0m\u001b[0;34m\u001b[0m\u001b[0m\n\u001b[1;32m   5573\u001b[0m         ):\n\u001b[1;32m   5574\u001b[0m             \u001b[0;32mreturn\u001b[0m \u001b[0mself\u001b[0m\u001b[0;34m[\u001b[0m\u001b[0mname\u001b[0m\u001b[0;34m]\u001b[0m\u001b[0;34m\u001b[0m\u001b[0;34m\u001b[0m\u001b[0m\n\u001b[0;32m-> 5575\u001b[0;31m         \u001b[0;32mreturn\u001b[0m \u001b[0mobject\u001b[0m\u001b[0;34m.\u001b[0m\u001b[0m__getattribute__\u001b[0m\u001b[0;34m(\u001b[0m\u001b[0mself\u001b[0m\u001b[0;34m,\u001b[0m \u001b[0mname\u001b[0m\u001b[0;34m)\u001b[0m\u001b[0;34m\u001b[0m\u001b[0;34m\u001b[0m\u001b[0m\n\u001b[0m",
      "\u001b[0;31mAttributeError\u001b[0m: 'EventSchedule' object has no attribute 'get_session'"
     ]
    }
   ],
   "source": [
    "session_name='Miami'\n",
    "\n",
    "session = f1.events.Event.get_sprint_qualifying(schedule[schedule['Location']==session_name])\n",
    "session.load(telemetry=False, weather=False)"
   ]
  }
 ],
 "metadata": {
  "kernelspec": {
   "display_name": "main",
   "language": "python",
   "name": "python3"
  },
  "language_info": {
   "codemirror_mode": {
    "name": "ipython",
    "version": 3
   },
   "file_extension": ".py",
   "mimetype": "text/x-python",
   "name": "python",
   "nbconvert_exporter": "python",
   "pygments_lexer": "ipython3",
   "version": "3.10.13"
  }
 },
 "nbformat": 4,
 "nbformat_minor": 2
}
